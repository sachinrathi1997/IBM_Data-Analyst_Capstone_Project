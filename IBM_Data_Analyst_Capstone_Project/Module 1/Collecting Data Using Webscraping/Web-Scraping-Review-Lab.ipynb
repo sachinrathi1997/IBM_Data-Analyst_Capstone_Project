{
 "cells": [
  {
   "cell_type": "markdown",
   "metadata": {},
   "source": [
    "<p style=\"text-align:center\">\n",
    "    <a href=\"https://skills.network/?utm_medium=Exinfluencer&utm_source=Exinfluencer&utm_content=000026UJ&utm_term=10006555&utm_id=NA-SkillsNetwork-Channel-SkillsNetworkCoursesIBMDA0321ENSkillsNetwork928-2022-01-01\" target=\"_blank\">\n",
    "    <img src=\"https://cf-courses-data.s3.us.cloud-object-storage.appdomain.cloud/assets/logos/SN_web_lightmode.png\" width=\"200\" alt=\"Skills Network Logo\"  />\n",
    "    </a>\n",
    "</p>\n"
   ]
  },
  {
   "cell_type": "markdown",
   "metadata": {},
   "source": [
    "# **Web Scraping Lab**\n"
   ]
  },
  {
   "cell_type": "markdown",
   "metadata": {},
   "source": [
    "Estimated time needed: **30** minutes\n"
   ]
  },
  {
   "cell_type": "markdown",
   "metadata": {},
   "source": [
    "## Objectives\n"
   ]
  },
  {
   "cell_type": "markdown",
   "metadata": {},
   "source": [
    "After completing this lab you will be able to:\n"
   ]
  },
  {
   "cell_type": "markdown",
   "metadata": {},
   "source": [
    "* Download a webpage using requests module\n",
    "* Scrape all links from a web page\n",
    "* Scrape all image urls from a web page\n",
    "* Scrape data from html tables\n"
   ]
  },
  {
   "cell_type": "markdown",
   "metadata": {},
   "source": [
    "## Scrape www.ibm.com\n"
   ]
  },
  {
   "cell_type": "markdown",
   "metadata": {},
   "source": [
    "Import the required modules and functions\n"
   ]
  },
  {
   "cell_type": "code",
   "execution_count": 85,
   "metadata": {},
   "outputs": [],
   "source": [
    "import pandas as pd  # Import pandas\n",
    "from bs4 import BeautifulSoup # this module helps in web scrapping.\n",
    "import requests  # this module helps us to download a web page"
   ]
  },
  {
   "cell_type": "markdown",
   "metadata": {},
   "source": [
    "Download the contents of the web page\n"
   ]
  },
  {
   "cell_type": "code",
   "execution_count": 86,
   "metadata": {},
   "outputs": [],
   "source": [
    "# URL containing the HTML table\n",
    "url = \"https://cf-courses-data.s3.us.cloud-object-storage.appdomain.cloud/IBM-DA0321EN-SkillsNetwork/labs/datasets/HTMLColorCodes.html\""
   ]
  },
  {
   "cell_type": "code",
   "execution_count": 87,
   "metadata": {},
   "outputs": [],
   "source": [
    "# get the contents of the webpage in text format and store in a variable called data\n",
    "data  = requests.get(url).text "
   ]
  },
  {
   "cell_type": "markdown",
   "metadata": {},
   "source": [
    "Create a soup object using the class BeautifulSoup\n"
   ]
  },
  {
   "cell_type": "code",
   "execution_count": 88,
   "metadata": {},
   "outputs": [],
   "source": [
    "soup = BeautifulSoup(data,\"html.parser\")  # create a soup object using the variable 'data'"
   ]
  },
  {
   "cell_type": "markdown",
   "metadata": {},
   "source": [
    "Scrape all links\n"
   ]
  },
  {
   "cell_type": "code",
   "execution_count": 89,
   "metadata": {},
   "outputs": [],
   "source": [
    "for link in soup.find_all('a'):  # in html anchor/link is represented by the tag <a>\n",
    "    print(link.get('href'))"
   ]
  },
  {
   "cell_type": "markdown",
   "metadata": {},
   "source": [
    "Scrape  all images\n"
   ]
  },
  {
   "cell_type": "code",
   "execution_count": 90,
   "metadata": {},
   "outputs": [],
   "source": [
    "for link in soup.find_all('img'):# in html image is represented by the tag <img>\n",
    "    print(link.get('src'))"
   ]
  },
  {
   "cell_type": "markdown",
   "metadata": {},
   "source": [
    "## Scrape data from html tables\n"
   ]
  },
  {
   "cell_type": "code",
   "execution_count": 91,
   "metadata": {},
   "outputs": [],
   "source": [
    "#The below url contains a html table with data about colors and color codes."
   ]
  },
  {
   "cell_type": "code",
   "execution_count": 92,
   "metadata": {},
   "outputs": [],
   "source": [
    "url = \"https://cf-courses-data.s3.us.cloud-object-storage.appdomain.cloud/IBM-DA0321EN-SkillsNetwork/labs/datasets/HTMLColorCodes.html\""
   ]
  },
  {
   "cell_type": "markdown",
   "metadata": {},
   "source": [
    "Before proceeding to scrape a web site, you need to examine the contents, and the way data is organized on the website. Open the above url in your browser and check how many rows and columns are there in the color table.\n"
   ]
  },
  {
   "cell_type": "code",
   "execution_count": 93,
   "metadata": {},
   "outputs": [],
   "source": [
    "# get the contents of the webpage in text format and store in a variable called data\n",
    "data  = requests.get(url).text"
   ]
  },
  {
   "cell_type": "code",
   "execution_count": 94,
   "metadata": {},
   "outputs": [],
   "source": [
    "soup = BeautifulSoup(data,\"html.parser\")"
   ]
  },
  {
   "cell_type": "code",
   "execution_count": 95,
   "metadata": {},
   "outputs": [],
   "source": [
    "#find a html table in the web page\n",
    "table = soup.find('table') # in html table is represented by the tag <table>"
   ]
  },
  {
   "cell_type": "code",
   "execution_count": 115,
   "metadata": {},
   "outputs": [
    {
     "name": "stdout",
     "output_type": "stream",
     "text": [
      "Color Name--->Hex Code#RRGGBB\n",
      "lightsalmon--->#FFA07A\n",
      "salmon--->#FA8072\n",
      "darksalmon--->#E9967A\n",
      "lightcoral--->#F08080\n",
      "coral--->#FF7F50\n",
      "tomato--->#FF6347\n",
      "orangered--->#FF4500\n",
      "gold--->#FFD700\n",
      "orange--->#FFA500\n",
      "darkorange--->#FF8C00\n",
      "lightyellow--->#FFFFE0\n",
      "lemonchiffon--->#FFFACD\n",
      "papayawhip--->#FFEFD5\n",
      "moccasin--->#FFE4B5\n",
      "peachpuff--->#FFDAB9\n",
      "palegoldenrod--->#EEE8AA\n",
      "khaki--->#F0E68C\n",
      "darkkhaki--->#BDB76B\n",
      "yellow--->#FFFF00\n",
      "lawngreen--->#7CFC00\n",
      "chartreuse--->#7FFF00\n",
      "limegreen--->#32CD32\n",
      "lime--->#00FF00\n",
      "forestgreen--->#228B22\n",
      "green--->#008000\n",
      "powderblue--->#B0E0E6\n",
      "lightblue--->#ADD8E6\n",
      "lightskyblue--->#87CEFA\n",
      "skyblue--->#87CEEB\n",
      "deepskyblue--->#00BFFF\n",
      "lightsteelblue--->#B0C4DE\n",
      "dodgerblue--->#1E90FF\n"
     ]
    }
   ],
   "source": [
    "#Get all rows from the table\n",
    "for row in table.find_all('tr'): # in html table row is represented by the tag <tr>\n",
    "    # Get all columns in each row.\n",
    "    cols = row.find_all('td') # in html a column is represented by the tag <td>\n",
    "    color_name = cols[2].getText() # store the value in column 3 as color_name\n",
    "    color_code = cols[3].getText() # store the value in column 4 as color_code\n",
    "    print(\"{}--->{}\".format(color_name,color_code))"
   ]
  },
  {
   "cell_type": "code",
   "execution_count": null,
   "metadata": {},
   "outputs": [],
   "source": []
  },
  {
   "cell_type": "code",
   "execution_count": 116,
   "metadata": {},
   "outputs": [
    {
     "name": "stdout",
     "output_type": "stream",
     "text": [
      "Requirement already satisfied: pandas in /opt/conda/lib/python3.11/site-packages (2.2.2)\n",
      "Requirement already satisfied: openpyxl in /opt/conda/lib/python3.11/site-packages (3.1.5)\n",
      "Requirement already satisfied: beautifulsoup4 in /opt/conda/lib/python3.11/site-packages (4.12.3)\n",
      "Requirement already satisfied: numpy>=1.23.2 in /opt/conda/lib/python3.11/site-packages (from pandas) (2.0.1)\n",
      "Requirement already satisfied: python-dateutil>=2.8.2 in /opt/conda/lib/python3.11/site-packages (from pandas) (2.9.0)\n",
      "Requirement already satisfied: pytz>=2020.1 in /opt/conda/lib/python3.11/site-packages (from pandas) (2024.1)\n",
      "Requirement already satisfied: tzdata>=2022.7 in /opt/conda/lib/python3.11/site-packages (from pandas) (2024.1)\n",
      "Requirement already satisfied: et-xmlfile in /opt/conda/lib/python3.11/site-packages (from openpyxl) (1.1.0)\n",
      "Requirement already satisfied: soupsieve>1.2 in /opt/conda/lib/python3.11/site-packages (from beautifulsoup4) (2.5)\n",
      "Requirement already satisfied: six>=1.5 in /opt/conda/lib/python3.11/site-packages (from python-dateutil>=2.8.2->pandas) (1.16.0)\n",
      "Note: you may need to restart the kernel to use updated packages.\n"
     ]
    }
   ],
   "source": [
    "pip install pandas openpyxl beautifulsoup4"
   ]
  },
  {
   "cell_type": "code",
   "execution_count": 123,
   "metadata": {},
   "outputs": [
    {
     "name": "stdout",
     "output_type": "stream",
     "text": [
      "1--->lightsalmon--->#FFA07A--->rgb(255,160,122)\n",
      "2--->salmon--->#FA8072--->rgb(250,128,114)\n",
      "3--->darksalmon--->#E9967A--->rgb(233,150,122)\n",
      "4--->lightcoral--->#F08080--->rgb(240,128,128)\n",
      "5--->coral--->#FF7F50--->rgb(255,127,80)\n",
      "6--->tomato--->#FF6347--->rgb(255,99,71)\n",
      "7--->orangered--->#FF4500--->rgb(255,69,0)\n",
      "8--->gold--->#FFD700--->rgb(255,215,0)\n",
      "9--->orange--->#FFA500--->rgb(255,165,0)\n",
      "10--->darkorange--->#FF8C00--->rgb(255,140,0)\n",
      "11--->lightyellow--->#FFFFE0--->rgb(255,255,224)\n",
      "12--->lemonchiffon--->#FFFACD--->rgb(255,250,205)\n",
      "13--->papayawhip--->#FFEFD5--->rgb(255,239,213)\n",
      "14--->moccasin--->#FFE4B5--->rgb(255,228,181)\n",
      "15--->peachpuff--->#FFDAB9--->rgb(255,218,185)\n",
      "16--->palegoldenrod--->#EEE8AA--->rgb(238,232,170)\n",
      "17--->khaki--->#F0E68C--->rgb(240,230,140)\n",
      "18--->darkkhaki--->#BDB76B--->rgb(189,183,107)\n",
      "19--->yellow--->#FFFF00--->rgb(255,255,0)\n",
      "20--->lawngreen--->#7CFC00--->rgb(124,252,0)\n",
      "21--->chartreuse--->#7FFF00--->rgb(127,255,0)\n",
      "22--->limegreen--->#32CD32--->rgb(50,205,50)\n",
      "23--->lime--->#00FF00--->rgb(0.255.0)\n",
      "24--->forestgreen--->#228B22--->rgb(34,139,34)\n",
      "25--->green--->#008000--->rgb(0,128,0)\n",
      "26--->powderblue--->#B0E0E6--->rgb(176,224,230)\n",
      "27--->lightblue--->#ADD8E6--->rgb(173,216,230)\n",
      "28--->lightskyblue--->#87CEFA--->rgb(135,206,250)\n",
      "29--->skyblue--->#87CEEB--->rgb(135,206,235)\n",
      "30--->deepskyblue--->#00BFFF--->rgb(0,191,255)\n",
      "31--->lightsteelblue--->#B0C4DE--->rgb(176,196,222)\n",
      "32--->dodgerblue--->#1E90FF--->rgb(30,144,255)\n",
      "Data collected: [['1', 'lightsalmon', '#FFA07A', 'rgb(255,160,122)'], ['2', 'salmon', '#FA8072', 'rgb(250,128,114)'], ['3', 'darksalmon', '#E9967A', 'rgb(233,150,122)'], ['4', 'lightcoral', '#F08080', 'rgb(240,128,128)'], ['5', 'coral', '#FF7F50', 'rgb(255,127,80)'], ['6', 'tomato', '#FF6347', 'rgb(255,99,71)'], ['7', 'orangered', '#FF4500', 'rgb(255,69,0)'], ['8', 'gold', '#FFD700', 'rgb(255,215,0)'], ['9', 'orange', '#FFA500', 'rgb(255,165,0)'], ['10', 'darkorange', '#FF8C00', 'rgb(255,140,0)'], ['11', 'lightyellow', '#FFFFE0', 'rgb(255,255,224)'], ['12', 'lemonchiffon', '#FFFACD', 'rgb(255,250,205)'], ['13', 'papayawhip', '#FFEFD5', 'rgb(255,239,213)'], ['14', 'moccasin', '#FFE4B5', 'rgb(255,228,181)'], ['15', 'peachpuff', '#FFDAB9', 'rgb(255,218,185)'], ['16', 'palegoldenrod', '#EEE8AA', 'rgb(238,232,170)'], ['17', 'khaki', '#F0E68C', 'rgb(240,230,140)'], ['18', 'darkkhaki', '#BDB76B', 'rgb(189,183,107)'], ['19', 'yellow', '#FFFF00', 'rgb(255,255,0)'], ['20', 'lawngreen', '#7CFC00', 'rgb(124,252,0)'], ['21', 'chartreuse', '#7FFF00', 'rgb(127,255,0)'], ['22', 'limegreen', '#32CD32', 'rgb(50,205,50)'], ['23', 'lime', '#00FF00', 'rgb(0.255.0)'], ['24', 'forestgreen', '#228B22', 'rgb(34,139,34)'], ['25', 'green', '#008000', 'rgb(0,128,0)'], ['26', 'powderblue', '#B0E0E6', 'rgb(176,224,230)'], ['27', 'lightblue', '#ADD8E6', 'rgb(173,216,230)'], ['28', 'lightskyblue', '#87CEFA', 'rgb(135,206,250)'], ['29', 'skyblue', '#87CEEB', 'rgb(135,206,235)'], ['30', 'deepskyblue', '#00BFFF', 'rgb(0,191,255)'], ['31', 'lightsteelblue', '#B0C4DE', 'rgb(176,196,222)'], ['32', 'dodgerblue', '#1E90FF', 'rgb(30,144,255)']]\n",
      "Partital List of HTML5 Supported Colors.xlsx'\n"
     ]
    }
   ],
   "source": [
    "import pandas as pd\n",
    "\n",
    "# Initialize an empty list to store the extracted data\n",
    "data = []\n",
    "\n",
    "# Get all rows from the table\n",
    "for i, row in enumerate(table.find_all('tr')):\n",
    "    if i == 0:  # Assuming the first row is a header\n",
    "        continue\n",
    "    cols = row.find_all('td')\n",
    "    if len(cols) >= 5:  # Adjust this number based on actual column count in rows\n",
    "        number = cols[0].getText().strip()  # Extract the value from the first column\n",
    "        color_name = cols[2].getText().strip()\n",
    "        hex_code_rrggbb = cols[3].getText().strip()\n",
    "        dec_code_rgb = cols[4].getText().strip()\n",
    "        \n",
    "        print(\"{}--->{}--->{}--->{}\".format(number, color_name, hex_code_rrggbb, dec_code_rgb))\n",
    "        data.append([number, color_name, hex_code_rrggbb, dec_code_rgb])\n",
    "    else:\n",
    "        print(\"Skipping row due to insufficient columns:\", row)\n",
    "\n",
    "# Debug: Print the data list to check its structure\n",
    "print(\"Data collected:\", data)\n",
    "\n",
    "# Convert to DataFrame and save to Excel if data was collected\n",
    "if data:\n",
    "    df = pd.DataFrame(data, columns=['Number', 'Color Name', 'hex_code_rrggbb', 'dec_code_rgb'])\n",
    "    df.to_excel('Partital List of HTML5 Supported Colors.xlsx', index=False)\n",
    "    print(\"Partital List of HTML5 Supported Colors.xlsx'\")\n",
    "else:\n",
    "    print(\"No data collected to save in Excel.\")"
   ]
  },
  {
   "cell_type": "markdown",
   "metadata": {},
   "source": [
    "## Authors\n"
   ]
  },
  {
   "cell_type": "markdown",
   "metadata": {},
   "source": [
    "Ramesh Sannareddy\n"
   ]
  },
  {
   "cell_type": "markdown",
   "metadata": {},
   "source": [
    "### Other Contributors\n"
   ]
  },
  {
   "cell_type": "markdown",
   "metadata": {},
   "source": [
    "Rav Ahuja\n"
   ]
  },
  {
   "cell_type": "markdown",
   "metadata": {},
   "source": [
    " Copyright &copy; 2020 IBM Corporation. This notebook and its source code are released under the terms of the [MIT License](https://cognitiveclass.ai/mit-license/?utm_medium=Exinfluencer&utm_source=Exinfluencer&utm_content=000026UJ&utm_term=10006555&utm_id=NA-SkillsNetwork-Channel-SkillsNetworkCoursesIBMDA0321ENSkillsNetwork928-2022-01-01).\n"
   ]
  },
  {
   "cell_type": "markdown",
   "metadata": {},
   "source": [
    "<!--## Change Log\n"
   ]
  },
  {
   "cell_type": "markdown",
   "metadata": {},
   "source": [
    "<!--|  Date (YYYY-MM-DD) |  Version | Changed By  |  Change Description |\n",
    "|---|---|---|---|\n",
    "| 2020-10-17  | 0.1  | Ramesh Sannareddy  |  Created initial version of the lab |--!>\n"
   ]
  }
 ],
 "metadata": {
  "kernelspec": {
   "display_name": "Python 3 (ipykernel)",
   "language": "python",
   "name": "python3"
  },
  "language_info": {
   "codemirror_mode": {
    "name": "ipython",
    "version": 3
   },
   "file_extension": ".py",
   "mimetype": "text/x-python",
   "name": "python",
   "nbconvert_exporter": "python",
   "pygments_lexer": "ipython3",
   "version": "3.11.5"
  },
  "prev_pub_hash": "f432dbe6c6ee2fd50ae3be9ec598c7cc953d3d491ecd1356c4b1cf37742463f1"
 },
 "nbformat": 4,
 "nbformat_minor": 4
}
